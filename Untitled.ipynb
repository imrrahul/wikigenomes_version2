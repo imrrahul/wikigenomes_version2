{
 "cells": [
  {
   "cell_type": "code",
   "execution_count": 1,
   "metadata": {
    "collapsed": false
   },
   "outputs": [],
   "source": [
    "from pymongo import MongoClient"
   ]
  },
  {
   "cell_type": "code",
   "execution_count": 2,
   "metadata": {
    "collapsed": true
   },
   "outputs": [],
   "source": [
    "final_tids = {\n",
    "'224326',\n",
    "'160488',\n",
    "'272624',\n",
    "'122586',\n",
    "'511145',\n",
    "'214092',\n",
    "'160490',\n",
    "'83332',\n",
    "'36809',\n",
    "'765698',\n",
    "'446465',\n",
    "'525903',\n",
    "'759362',\n",
    "'565050',\n",
    "'515635'\n",
    "}\n",
    "org_taxids = [\n",
    "    '107806',\n",
    "    '224326',\n",
    "    '243275',\n",
    "    '189518',\n",
    "    '192222',\n",
    "    '85962',\n",
    "    '177416',\n",
    "    '300852',\n",
    "    '208964',\n",
    "    '160488',\n",
    "    '205918',\n",
    "    '190485',\n",
    "    '394',\n",
    "    '266834',\n",
    "    '272624',\n",
    "    '242231',\n",
    "    '122586',\n",
    "    '568707',\n",
    "    '1208660',\n",
    "    '257313',\n",
    "    '1028307',\n",
    "    '716541',\n",
    "    '511145',\n",
    "    '386585',\n",
    "    '585056',\n",
    "    '585057',\n",
    "    '685038',\n",
    "    '1133852',\n",
    "    '1125630',\n",
    "    '300267',\n",
    "    '198214',\n",
    "    '393305',\n",
    "    '214092',\n",
    "    '380703',\n",
    "    '243277',\n",
    "    '312309',\n",
    "    '223926',\n",
    "    '71421',\n",
    "    '227377',\n",
    "    '272947',\n",
    "    '272561',\n",
    "    '471472',\n",
    "    '295405',\n",
    "    '226186',\n",
    "    '190304',\n",
    "    '882',\n",
    "    '272943',\n",
    "    '269796',\n",
    "    '194439',\n",
    "    '324602',\n",
    "    '167539',\n",
    "    '93061',\n",
    "    '176280',\n",
    "    '243230',\n",
    "    '388919',\n",
    "    '568814',\n",
    "    '210007',\n",
    "    '208435',\n",
    "    '171101',\n",
    "    '160490',\n",
    "    '226185',\n",
    "    '333849',\n",
    "    '272623',\n",
    "    '198094',\n",
    "    '260799',\n",
    "    '226900',\n",
    "    '224308',\n",
    "    '281309',\n",
    "    '272562',\n",
    "    '441771',\n",
    "    '413999',\n",
    "    '272563',\n",
    "    '264732',\n",
    "    '272621',\n",
    "    '220668',\n",
    "    '321967',\n",
    "    '362948',\n",
    "    '169963',\n",
    "    '702459',\n",
    "    '196627',\n",
    "    '233413',\n",
    "    '272631',\n",
    "    '246196',\n",
    "    '83332',\n",
    "    '100226',\n",
    "    '272632',\n",
    "    '272634',\n",
    "    '265311',\n",
    "    '243274',\n",
    "    '525284',\n",
    "    '243160',\n",
    "    '365659',\n",
    "    '289376',\n",
    "    '272560',\n",
    "    '99287',\n",
    "    '220341',\n",
    "    '251221',\n",
    "    '749927',\n",
    "    '243231',\n",
    "    '36809',\n",
    "    '765698',\n",
    "    '446465',\n",
    "    '871585',\n",
    "    '224324',\n",
    "    '211586',\n",
    "    '525903',\n",
    "    '115713',\n",
    "    '759362',\n",
    "    '402612',\n",
    "    '366394',\n",
    "    '197221',\n",
    "    '309807',\n",
    "    '190650',\n",
    "    '565050',\n",
    "    '206672',\n",
    "    '223283',\n",
    "    '243090',\n",
    "    '515635',\n",
    "    '176299',\n",
    "    '224911'\n",
    "]"
   ]
  },
  {
   "cell_type": "code",
   "execution_count": 3,
   "metadata": {
    "collapsed": true
   },
   "outputs": [],
   "source": [
    "client = MongoClient()\n",
    "genomes = client.genomes\n",
    "genes = genomes.genes\n",
    "assembly_summary_collection = genomes.assembly_summary"
   ]
  },
  {
   "cell_type": "code",
   "execution_count": 4,
   "metadata": {
    "collapsed": false
   },
   "outputs": [
    {
     "name": "stdout",
     "output_type": "stream",
     "text": [
      "515635\n",
      "765698\n",
      "525903\n",
      "759362\n",
      "565050\n",
      "446465\n"
     ]
    }
   ],
   "source": [
    "for taxid in final_tids:\n",
    "    count = 0\n",
    "    cursor = genes.find({'taxid': taxid})\n",
    "    for doc in cursor:\n",
    "        count += 1\n",
    "    if count == 0:\n",
    "        print(taxid)"
   ]
  },
  {
   "cell_type": "code",
   "execution_count": null,
   "metadata": {
    "collapsed": false
   },
   "outputs": [],
   "source": []
  },
  {
   "cell_type": "code",
   "execution_count": null,
   "metadata": {
    "collapsed": true
   },
   "outputs": [],
   "source": []
  }
 ],
 "metadata": {
  "kernelspec": {
   "display_name": "Python 3",
   "language": "python",
   "name": "python3"
  },
  "language_info": {
   "codemirror_mode": {
    "name": "ipython",
    "version": 3
   },
   "file_extension": ".py",
   "mimetype": "text/x-python",
   "name": "python",
   "nbconvert_exporter": "python",
   "pygments_lexer": "ipython3",
   "version": "3.5.1"
  }
 },
 "nbformat": 4,
 "nbformat_minor": 0
}
